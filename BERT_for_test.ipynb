{
 "cells": [
  {
   "cell_type": "code",
   "execution_count": 1,
   "id": "e061959d",
   "metadata": {},
   "outputs": [],
   "source": [
    "import warnings\n",
    "warnings.filterwarnings('ignore')\n",
    "from sklearn.model_selection import train_test_split"
   ]
  },
  {
   "cell_type": "code",
   "execution_count": 4,
   "id": "288d1275",
   "metadata": {},
   "outputs": [
    {
     "data": {
      "text/html": [
       "<pre style=\"white-space:pre;overflow-x:auto;line-height:normal;font-family:Menlo,'DejaVu Sans Mono',consolas,'Courier New',monospace\">Better speed can be achieved with apex installed from https://www.github.com/nvidia/apex .\n",
       "</pre>\n"
      ],
      "text/plain": [
       "Better speed can be achieved with apex installed from https://www.github.com/nvidia/apex .\n"
      ]
     },
     "metadata": {},
     "output_type": "display_data"
    }
   ],
   "source": [
    "import torch\n",
    "from pytorch_pretrained_bert import BertTokenizer, BertModel, BertForMaskedLM"
   ]
  },
  {
   "cell_type": "code",
   "execution_count": 5,
   "id": "b4e7d6ef",
   "metadata": {},
   "outputs": [],
   "source": [
    "import pandas as pd\n",
    "import numpy as np\n",
    "from tqdm import tqdm"
   ]
  },
  {
   "cell_type": "code",
   "execution_count": 6,
   "id": "e8d1200f",
   "metadata": {},
   "outputs": [
    {
     "data": {
      "text/html": [
       "<div>\n",
       "<style scoped>\n",
       "    .dataframe tbody tr th:only-of-type {\n",
       "        vertical-align: middle;\n",
       "    }\n",
       "\n",
       "    .dataframe tbody tr th {\n",
       "        vertical-align: top;\n",
       "    }\n",
       "\n",
       "    .dataframe thead th {\n",
       "        text-align: right;\n",
       "    }\n",
       "</style>\n",
       "<table border=\"1\" class=\"dataframe\">\n",
       "  <thead>\n",
       "    <tr style=\"text-align: right;\">\n",
       "      <th></th>\n",
       "      <th>sentence</th>\n",
       "      <th>sentiment</th>\n",
       "    </tr>\n",
       "  </thead>\n",
       "  <tbody>\n",
       "    <tr>\n",
       "      <th>0</th>\n",
       "      <td>При этом всегда получал качественные услуги.</td>\n",
       "      <td>1</td>\n",
       "    </tr>\n",
       "    <tr>\n",
       "      <th>1</th>\n",
       "      <td>Не вижу, за что хотя бы 2 поставить, сервис на 1!</td>\n",
       "      <td>-1</td>\n",
       "    </tr>\n",
       "    <tr>\n",
       "      <th>2</th>\n",
       "      <td>Вот так \"Мой любимый\" банк МКБ меня обманул.</td>\n",
       "      <td>-1</td>\n",
       "    </tr>\n",
       "    <tr>\n",
       "      <th>3</th>\n",
       "      <td>Отвратительное отношение к клиентам.</td>\n",
       "      <td>-1</td>\n",
       "    </tr>\n",
       "    <tr>\n",
       "      <th>4</th>\n",
       "      <td>Всегда в любое время дня и ночи помогут, ответ...</td>\n",
       "      <td>1</td>\n",
       "    </tr>\n",
       "    <tr>\n",
       "      <th>...</th>\n",
       "      <td>...</td>\n",
       "      <td>...</td>\n",
       "    </tr>\n",
       "    <tr>\n",
       "      <th>19356</th>\n",
       "      <td>Никогда и ни в коем случае не открывайте счет ...</td>\n",
       "      <td>-1</td>\n",
       "    </tr>\n",
       "    <tr>\n",
       "      <th>19357</th>\n",
       "      <td>ТИ откровенно забили на качество и развивают с...</td>\n",
       "      <td>-1</td>\n",
       "    </tr>\n",
       "    <tr>\n",
       "      <th>19358</th>\n",
       "      <td>Я считаю, это прорыв и лидерство финансовых ус...</td>\n",
       "      <td>1</td>\n",
       "    </tr>\n",
       "    <tr>\n",
       "      <th>19359</th>\n",
       "      <td>Писал мужчина очень доходчиво, не финансовым я...</td>\n",
       "      <td>1</td>\n",
       "    </tr>\n",
       "    <tr>\n",
       "      <th>19360</th>\n",
       "      <td>Данная ситуация меня сильно выбила из колеи, и...</td>\n",
       "      <td>-1</td>\n",
       "    </tr>\n",
       "  </tbody>\n",
       "</table>\n",
       "<p>19361 rows × 2 columns</p>\n",
       "</div>"
      ],
      "text/plain": [
       "                                                sentence sentiment\n",
       "0           При этом всегда получал качественные услуги.         1\n",
       "1      Не вижу, за что хотя бы 2 поставить, сервис на 1!        -1\n",
       "2           Вот так \"Мой любимый\" банк МКБ меня обманул.        -1\n",
       "3                   Отвратительное отношение к клиентам.        -1\n",
       "4      Всегда в любое время дня и ночи помогут, ответ...         1\n",
       "...                                                  ...       ...\n",
       "19356  Никогда и ни в коем случае не открывайте счет ...        -1\n",
       "19357  ТИ откровенно забили на качество и развивают с...        -1\n",
       "19358  Я считаю, это прорыв и лидерство финансовых ус...         1\n",
       "19359  Писал мужчина очень доходчиво, не финансовым я...         1\n",
       "19360  Данная ситуация меня сильно выбила из колеи, и...        -1\n",
       "\n",
       "[19361 rows x 2 columns]"
      ]
     },
     "execution_count": 6,
     "metadata": {},
     "output_type": "execute_result"
    }
   ],
   "source": [
    "df = pd.read_csv('https://raw.githubusercontent.com/takimov/MLTinkoff/master/train.csv',encoding='utf-8').drop(columns='Unnamed: 0')\n",
    "df.loc[df['sentiment']=='+', 'sentiment'] = 1\n",
    "df.loc[df['sentiment']=='−', 'sentiment'] = -1\n",
    "df.loc[df['sentiment']=='?', 'sentiment'] = 0\n",
    "df[['sentence','sentiment']]"
   ]
  },
  {
   "cell_type": "code",
   "execution_count": 7,
   "id": "73c02b9b",
   "metadata": {},
   "outputs": [
    {
     "data": {
      "text/html": [
       "<pre style=\"white-space:pre;overflow-x:auto;line-height:normal;font-family:Menlo,'DejaVu Sans Mono',consolas,'Courier New',monospace\">https://s3.amazonaws.com/models.huggingface.co/bert/bert-base-multilingual-cased-vocab.txt not found in cache, downloading to /var/folders/h1/d6gbh22941z2_4t47cbrzl680000gn/T/tmpjb99vpg3\n",
       "</pre>\n"
      ],
      "text/plain": [
       "https://s3.amazonaws.com/models.huggingface.co/bert/bert-base-multilingual-cased-vocab.txt not found in cache, downloading to /var/folders/h1/d6gbh22941z2_4t47cbrzl680000gn/T/tmpjb99vpg3\n"
      ]
     },
     "metadata": {},
     "output_type": "display_data"
    },
    {
     "name": "stderr",
     "output_type": "stream",
     "text": [
      "100%|███████████████████████████████| 995526/995526 [00:00<00:00, 1279037.66B/s]\n"
     ]
    },
    {
     "data": {
      "text/html": [
       "<pre style=\"white-space:pre;overflow-x:auto;line-height:normal;font-family:Menlo,'DejaVu Sans Mono',consolas,'Courier New',monospace\">copying /var/folders/h1/d6gbh22941z2_4t47cbrzl680000gn/T/tmpjb99vpg3 to cache at /Users/stevenstrange/.pytorch_pretrained_bert/96435fa287fbf7e469185f1062386e05a075cadbf6838b74da22bf64b080bc32.99bcd55fc66f4f3360bc49ba472b940b8dcf223ea6a345deb969d607ca900729\n",
       "</pre>\n"
      ],
      "text/plain": [
       "copying /var/folders/h1/d6gbh22941z2_4t47cbrzl680000gn/T/tmpjb99vpg3 to cache at /Users/stevenstrange/.pytorch_pretrained_bert/96435fa287fbf7e469185f1062386e05a075cadbf6838b74da22bf64b080bc32.99bcd55fc66f4f3360bc49ba472b940b8dcf223ea6a345deb969d607ca900729\n"
      ]
     },
     "metadata": {},
     "output_type": "display_data"
    },
    {
     "data": {
      "text/html": [
       "<pre style=\"white-space:pre;overflow-x:auto;line-height:normal;font-family:Menlo,'DejaVu Sans Mono',consolas,'Courier New',monospace\">creating metadata file for /Users/stevenstrange/.pytorch_pretrained_bert/96435fa287fbf7e469185f1062386e05a075cadbf6838b74da22bf64b080bc32.99bcd55fc66f4f3360bc49ba472b940b8dcf223ea6a345deb969d607ca900729\n",
       "</pre>\n"
      ],
      "text/plain": [
       "creating metadata file for /Users/stevenstrange/.pytorch_pretrained_bert/96435fa287fbf7e469185f1062386e05a075cadbf6838b74da22bf64b080bc32.99bcd55fc66f4f3360bc49ba472b940b8dcf223ea6a345deb969d607ca900729\n"
      ]
     },
     "metadata": {},
     "output_type": "display_data"
    },
    {
     "data": {
      "text/html": [
       "<pre style=\"white-space:pre;overflow-x:auto;line-height:normal;font-family:Menlo,'DejaVu Sans Mono',consolas,'Courier New',monospace\">removing temp file /var/folders/h1/d6gbh22941z2_4t47cbrzl680000gn/T/tmpjb99vpg3\n",
       "</pre>\n"
      ],
      "text/plain": [
       "removing temp file /var/folders/h1/d6gbh22941z2_4t47cbrzl680000gn/T/tmpjb99vpg3\n"
      ]
     },
     "metadata": {},
     "output_type": "display_data"
    },
    {
     "data": {
      "text/html": [
       "<pre style=\"white-space:pre;overflow-x:auto;line-height:normal;font-family:Menlo,'DejaVu Sans Mono',consolas,'Courier New',monospace\">loading vocabulary file https://s3.amazonaws.com/models.huggingface.co/bert/bert-base-multilingual-cased-vocab.txt from cache at /Users/stevenstrange/.pytorch_pretrained_bert/96435fa287fbf7e469185f1062386e05a075cadbf6838b74da22bf64b080bc32.99bcd55fc66f4f3360bc49ba472b940b8dcf223ea6a345deb969d607ca900729\n",
       "</pre>\n"
      ],
      "text/plain": [
       "loading vocabulary file https://s3.amazonaws.com/models.huggingface.co/bert/bert-base-multilingual-cased-vocab.txt from cache at /Users/stevenstrange/.pytorch_pretrained_bert/96435fa287fbf7e469185f1062386e05a075cadbf6838b74da22bf64b080bc32.99bcd55fc66f4f3360bc49ba472b940b8dcf223ea6a345deb969d607ca900729\n"
      ]
     },
     "metadata": {},
     "output_type": "display_data"
    }
   ],
   "source": [
    "tokenizer = BertTokenizer.from_pretrained('bert-base-multilingual-cased',do_lower_case=False)"
   ]
  },
  {
   "cell_type": "code",
   "execution_count": 8,
   "id": "83837527",
   "metadata": {
    "scrolled": true
   },
   "outputs": [
    {
     "data": {
      "text/html": [
       "<pre style=\"white-space:pre;overflow-x:auto;line-height:normal;font-family:Menlo,'DejaVu Sans Mono',consolas,'Courier New',monospace\">https://s3.amazonaws.com/models.huggingface.co/bert/bert-base-multilingual-cased.tar.gz not found in cache, downloading to /var/folders/h1/d6gbh22941z2_4t47cbrzl680000gn/T/tmpy50sqi97\n",
       "</pre>\n"
      ],
      "text/plain": [
       "https://s3.amazonaws.com/models.huggingface.co/bert/bert-base-multilingual-cased.tar.gz not found in cache, downloading to /var/folders/h1/d6gbh22941z2_4t47cbrzl680000gn/T/tmpy50sqi97\n"
      ]
     },
     "metadata": {},
     "output_type": "display_data"
    },
    {
     "name": "stderr",
     "output_type": "stream",
     "text": [
      "100%|█████████████████████████| 662804195/662804195 [02:52<00:00, 3834599.23B/s]\n"
     ]
    },
    {
     "data": {
      "text/html": [
       "<pre style=\"white-space:pre;overflow-x:auto;line-height:normal;font-family:Menlo,'DejaVu Sans Mono',consolas,'Courier New',monospace\">copying /var/folders/h1/d6gbh22941z2_4t47cbrzl680000gn/T/tmpy50sqi97 to cache at /Users/stevenstrange/.pytorch_pretrained_bert/731c19ddf94e294e00ec1ba9a930c69cc2a0fd489b25d3d691373fae4c0986bd.4e367b0d0155d801930846bb6ed98f8a7c23e0ded37888b29caa37009a40c7b9\n",
       "</pre>\n"
      ],
      "text/plain": [
       "copying /var/folders/h1/d6gbh22941z2_4t47cbrzl680000gn/T/tmpy50sqi97 to cache at /Users/stevenstrange/.pytorch_pretrained_bert/731c19ddf94e294e00ec1ba9a930c69cc2a0fd489b25d3d691373fae4c0986bd.4e367b0d0155d801930846bb6ed98f8a7c23e0ded37888b29caa37009a40c7b9\n"
      ]
     },
     "metadata": {},
     "output_type": "display_data"
    },
    {
     "data": {
      "text/html": [
       "<pre style=\"white-space:pre;overflow-x:auto;line-height:normal;font-family:Menlo,'DejaVu Sans Mono',consolas,'Courier New',monospace\">creating metadata file for /Users/stevenstrange/.pytorch_pretrained_bert/731c19ddf94e294e00ec1ba9a930c69cc2a0fd489b25d3d691373fae4c0986bd.4e367b0d0155d801930846bb6ed98f8a7c23e0ded37888b29caa37009a40c7b9\n",
       "</pre>\n"
      ],
      "text/plain": [
       "creating metadata file for /Users/stevenstrange/.pytorch_pretrained_bert/731c19ddf94e294e00ec1ba9a930c69cc2a0fd489b25d3d691373fae4c0986bd.4e367b0d0155d801930846bb6ed98f8a7c23e0ded37888b29caa37009a40c7b9\n"
      ]
     },
     "metadata": {},
     "output_type": "display_data"
    },
    {
     "data": {
      "text/html": [
       "<pre style=\"white-space:pre;overflow-x:auto;line-height:normal;font-family:Menlo,'DejaVu Sans Mono',consolas,'Courier New',monospace\">removing temp file /var/folders/h1/d6gbh22941z2_4t47cbrzl680000gn/T/tmpy50sqi97\n",
       "</pre>\n"
      ],
      "text/plain": [
       "removing temp file /var/folders/h1/d6gbh22941z2_4t47cbrzl680000gn/T/tmpy50sqi97\n"
      ]
     },
     "metadata": {},
     "output_type": "display_data"
    },
    {
     "data": {
      "text/html": [
       "<pre style=\"white-space:pre;overflow-x:auto;line-height:normal;font-family:Menlo,'DejaVu Sans Mono',consolas,'Courier New',monospace\">loading archive file https://s3.amazonaws.com/models.huggingface.co/bert/bert-base-multilingual-cased.tar.gz from cache at /Users/stevenstrange/.pytorch_pretrained_bert/731c19ddf94e294e00ec1ba9a930c69cc2a0fd489b25d3d691373fae4c0986bd.4e367b0d0155d801930846bb6ed98f8a7c23e0ded37888b29caa37009a40c7b9\n",
       "</pre>\n"
      ],
      "text/plain": [
       "loading archive file https://s3.amazonaws.com/models.huggingface.co/bert/bert-base-multilingual-cased.tar.gz from cache at /Users/stevenstrange/.pytorch_pretrained_bert/731c19ddf94e294e00ec1ba9a930c69cc2a0fd489b25d3d691373fae4c0986bd.4e367b0d0155d801930846bb6ed98f8a7c23e0ded37888b29caa37009a40c7b9\n"
      ]
     },
     "metadata": {},
     "output_type": "display_data"
    },
    {
     "data": {
      "text/html": [
       "<pre style=\"white-space:pre;overflow-x:auto;line-height:normal;font-family:Menlo,'DejaVu Sans Mono',consolas,'Courier New',monospace\">extracting archive file /Users/stevenstrange/.pytorch_pretrained_bert/731c19ddf94e294e00ec1ba9a930c69cc2a0fd489b25d3d691373fae4c0986bd.4e367b0d0155d801930846bb6ed98f8a7c23e0ded37888b29caa37009a40c7b9 to temp dir /var/folders/h1/d6gbh22941z2_4t47cbrzl680000gn/T/tmp7amhvxhi\n",
       "</pre>\n"
      ],
      "text/plain": [
       "extracting archive file /Users/stevenstrange/.pytorch_pretrained_bert/731c19ddf94e294e00ec1ba9a930c69cc2a0fd489b25d3d691373fae4c0986bd.4e367b0d0155d801930846bb6ed98f8a7c23e0ded37888b29caa37009a40c7b9 to temp dir /var/folders/h1/d6gbh22941z2_4t47cbrzl680000gn/T/tmp7amhvxhi\n"
      ]
     },
     "metadata": {},
     "output_type": "display_data"
    },
    {
     "data": {
      "text/html": [
       "<pre style=\"white-space:pre;overflow-x:auto;line-height:normal;font-family:Menlo,'DejaVu Sans Mono',consolas,'Courier New',monospace\">Model config {\n",
       "  \"attention_probs_dropout_prob\": 0.1,\n",
       "  \"directionality\": \"bidi\",\n",
       "  \"hidden_act\": \"gelu\",\n",
       "  \"hidden_dropout_prob\": 0.1,\n",
       "  \"hidden_size\": 768,\n",
       "  \"initializer_range\": 0.02,\n",
       "  \"intermediate_size\": 3072,\n",
       "  \"max_position_embeddings\": 512,\n",
       "  \"num_attention_heads\": 12,\n",
       "  \"num_hidden_layers\": 12,\n",
       "  \"pooler_fc_size\": 768,\n",
       "  \"pooler_num_attention_heads\": 12,\n",
       "  \"pooler_num_fc_layers\": 3,\n",
       "  \"pooler_size_per_head\": 128,\n",
       "  \"pooler_type\": \"first_token_transform\",\n",
       "  \"type_vocab_size\": 2,\n",
       "  \"vocab_size\": 119547\n",
       "}\n",
       "\n",
       "</pre>\n"
      ],
      "text/plain": [
       "Model config {\n",
       "  \"attention_probs_dropout_prob\": 0.1,\n",
       "  \"directionality\": \"bidi\",\n",
       "  \"hidden_act\": \"gelu\",\n",
       "  \"hidden_dropout_prob\": 0.1,\n",
       "  \"hidden_size\": 768,\n",
       "  \"initializer_range\": 0.02,\n",
       "  \"intermediate_size\": 3072,\n",
       "  \"max_position_embeddings\": 512,\n",
       "  \"num_attention_heads\": 12,\n",
       "  \"num_hidden_layers\": 12,\n",
       "  \"pooler_fc_size\": 768,\n",
       "  \"pooler_num_attention_heads\": 12,\n",
       "  \"pooler_num_fc_layers\": 3,\n",
       "  \"pooler_size_per_head\": 128,\n",
       "  \"pooler_type\": \"first_token_transform\",\n",
       "  \"type_vocab_size\": 2,\n",
       "  \"vocab_size\": 119547\n",
       "}\n",
       "\n"
      ]
     },
     "metadata": {},
     "output_type": "display_data"
    },
    {
     "data": {
      "text/plain": [
       "BertModel(\n",
       "  (embeddings): BertEmbeddings(\n",
       "    (word_embeddings): Embedding(119547, 768, padding_idx=0)\n",
       "    (position_embeddings): Embedding(512, 768)\n",
       "    (token_type_embeddings): Embedding(2, 768)\n",
       "    (LayerNorm): BertLayerNorm()\n",
       "    (dropout): Dropout(p=0.1, inplace=False)\n",
       "  )\n",
       "  (encoder): BertEncoder(\n",
       "    (layer): ModuleList(\n",
       "      (0-11): 12 x BertLayer(\n",
       "        (attention): BertAttention(\n",
       "          (self): BertSelfAttention(\n",
       "            (query): Linear(in_features=768, out_features=768, bias=True)\n",
       "            (key): Linear(in_features=768, out_features=768, bias=True)\n",
       "            (value): Linear(in_features=768, out_features=768, bias=True)\n",
       "            (dropout): Dropout(p=0.1, inplace=False)\n",
       "          )\n",
       "          (output): BertSelfOutput(\n",
       "            (dense): Linear(in_features=768, out_features=768, bias=True)\n",
       "            (LayerNorm): BertLayerNorm()\n",
       "            (dropout): Dropout(p=0.1, inplace=False)\n",
       "          )\n",
       "        )\n",
       "        (intermediate): BertIntermediate(\n",
       "          (dense): Linear(in_features=768, out_features=3072, bias=True)\n",
       "        )\n",
       "        (output): BertOutput(\n",
       "          (dense): Linear(in_features=3072, out_features=768, bias=True)\n",
       "          (LayerNorm): BertLayerNorm()\n",
       "          (dropout): Dropout(p=0.1, inplace=False)\n",
       "        )\n",
       "      )\n",
       "    )\n",
       "  )\n",
       "  (pooler): BertPooler(\n",
       "    (dense): Linear(in_features=768, out_features=768, bias=True)\n",
       "    (activation): Tanh()\n",
       "  )\n",
       ")"
      ]
     },
     "execution_count": 8,
     "metadata": {},
     "output_type": "execute_result"
    }
   ],
   "source": [
    "model = BertModel.from_pretrained('bert-base-multilingual-cased')\n",
    "model.eval()"
   ]
  },
  {
   "cell_type": "code",
   "execution_count": 9,
   "id": "31e8c0d6",
   "metadata": {},
   "outputs": [],
   "source": [
    "df_new = pd.read_csv('https://raw.githubusercontent.com/aachubov/frnmklerafmk-qermfl-/main/test_for_participants.csv',encoding='utf-8').drop(columns='Unnamed: 0')"
   ]
  },
  {
   "cell_type": "code",
   "execution_count": 10,
   "id": "2115f0c4",
   "metadata": {},
   "outputs": [
    {
     "name": "stderr",
     "output_type": "stream",
     "text": [
      "100%|█████████████████████████████████████| 2152/2152 [00:00<00:00, 2437.68it/s]\n"
     ]
    }
   ],
   "source": [
    "segments_ids_ans = list()\n",
    "indexed_tokens_ans = list()\n",
    "for i in tqdm(range(len(df_new['sentence']))):\n",
    "    text = df_new['sentence'][i]\n",
    "    marked_text = \"[CLS] \" + text + \" [SEP]\"\n",
    "    tokenized_text = tokenizer.tokenize(marked_text)\n",
    "    segments_ids = [1] * len(tokenized_text)\n",
    "    indexed_tokens = tokenizer.convert_tokens_to_ids(tokenized_text)\n",
    "    segments_ids_ans.append(segments_ids)\n",
    "    indexed_tokens_ans.append(indexed_tokens)"
   ]
  },
  {
   "cell_type": "code",
   "execution_count": 11,
   "id": "f205a966",
   "metadata": {},
   "outputs": [
    {
     "name": "stderr",
     "output_type": "stream",
     "text": [
      "100%|████████████████████████████████████| 2152/2152 [00:00<00:00, 53661.88it/s]\n",
      "100%|████████████████████████████████████| 2152/2152 [00:00<00:00, 60556.19it/s]\n"
     ]
    }
   ],
   "source": [
    "sentences_count = len(df_new['sentence'])\n",
    "tokens_tensor_ans = [torch.tensor([indexed_tokens_ans[i]]) for i in tqdm(range(sentences_count))]\n",
    "segments_tensors_ans = [torch.tensor([segments_ids_ans[i]]) for i in tqdm(range(sentences_count))]"
   ]
  },
  {
   "cell_type": "code",
   "execution_count": 12,
   "id": "478633af",
   "metadata": {},
   "outputs": [],
   "source": [
    "encoded = list()"
   ]
  },
  {
   "cell_type": "code",
   "execution_count": 13,
   "id": "1313df52",
   "metadata": {},
   "outputs": [
    {
     "name": "stderr",
     "output_type": "stream",
     "text": [
      "100%|███████████████████████████████████████| 2152/2152 [02:51<00:00, 12.54it/s]\n"
     ]
    }
   ],
   "source": [
    "with torch.no_grad():\n",
    "    for i in tqdm(range(sentences_count)):\n",
    "        encoded_layers, _ = model(tokens_tensor_ans[i], segments_tensors_ans[i])\n",
    "        encoded.append(encoded_layers)"
   ]
  },
  {
   "cell_type": "code",
   "execution_count": 14,
   "id": "36e67708",
   "metadata": {},
   "outputs": [
    {
     "name": "stderr",
     "output_type": "stream",
     "text": [
      "100%|██████████████████████████████████████| 2152/2152 [00:05<00:00, 369.01it/s]\n"
     ]
    }
   ],
   "source": [
    "token_embeddings = [torch.stack(encoded[i], dim=0) for i in tqdm(range(sentences_count))]"
   ]
  },
  {
   "cell_type": "code",
   "execution_count": 15,
   "id": "463685e4",
   "metadata": {},
   "outputs": [
    {
     "name": "stderr",
     "output_type": "stream",
     "text": [
      "100%|███████████████████████████████████| 2152/2152 [00:00<00:00, 207683.72it/s]\n"
     ]
    }
   ],
   "source": [
    "token_embeddings = [torch.squeeze(token_embeddings[i], dim=1) for i in tqdm(range(sentences_count))]"
   ]
  },
  {
   "cell_type": "code",
   "execution_count": 16,
   "id": "e16343d5",
   "metadata": {},
   "outputs": [
    {
     "name": "stderr",
     "output_type": "stream",
     "text": [
      "100%|███████████████████████████████████| 2152/2152 [00:00<00:00, 244544.63it/s]\n"
     ]
    }
   ],
   "source": [
    "token_embeddings = [token_embeddings[i].permute(1,0,2) for i in tqdm(range(sentences_count))]"
   ]
  },
  {
   "cell_type": "code",
   "execution_count": 17,
   "id": "d258d610",
   "metadata": {},
   "outputs": [
    {
     "name": "stderr",
     "output_type": "stream",
     "text": [
      "100%|██████████████████████████████████| 2152/2152 [00:00<00:00, 1951176.44it/s]\n",
      "100%|██████████████████████████████████████| 2152/2152 [00:03<00:00, 691.98it/s]\n"
     ]
    }
   ],
   "source": [
    "token_vecs_sum = [[] for i in tqdm(range(sentences_count))]\n",
    "for i in tqdm(range(sentences_count)):\n",
    "    for token in token_embeddings[i]:\n",
    "        sum_vec = torch.sum(token[-4:], dim=0)\n",
    "        token_vecs_sum[i].append(sum_vec)"
   ]
  },
  {
   "cell_type": "code",
   "execution_count": 19,
   "id": "6ee43e48",
   "metadata": {},
   "outputs": [
    {
     "name": "stderr",
     "output_type": "stream",
     "text": [
      "100%|████████████████████████████████████| 2152/2152 [00:00<00:00, 19872.75it/s]\n"
     ]
    }
   ],
   "source": [
    "sentence_embedding_ans = list()\n",
    "for i in tqdm(range(sentences_count)):\n",
    "    token_vecs = encoded[i][11][0]\n",
    "    sentence_embedding = torch.mean(token_vecs, dim=0)\n",
    "    sentence_embedding_ans.append(sentence_embedding)"
   ]
  },
  {
   "cell_type": "code",
   "execution_count": 20,
   "id": "9b898a17",
   "metadata": {},
   "outputs": [],
   "source": [
    "with open ('embeddings_test.npy', 'wb') as f:\n",
    "    np.save(f, np.array(sentence_embedding_ans))"
   ]
  },
  {
   "cell_type": "code",
   "execution_count": null,
   "id": "262f1ef0",
   "metadata": {},
   "outputs": [],
   "source": []
  }
 ],
 "metadata": {
  "kernelspec": {
   "display_name": "Python 3 (ipykernel)",
   "language": "python",
   "name": "python3"
  },
  "language_info": {
   "codemirror_mode": {
    "name": "ipython",
    "version": 3
   },
   "file_extension": ".py",
   "mimetype": "text/x-python",
   "name": "python",
   "nbconvert_exporter": "python",
   "pygments_lexer": "ipython3",
   "version": "3.10.8"
  }
 },
 "nbformat": 4,
 "nbformat_minor": 5
}
